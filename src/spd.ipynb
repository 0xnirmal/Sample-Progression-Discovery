{
 "cells": [
  {
   "cell_type": "code",
   "execution_count": 643,
   "metadata": {
    "collapsed": true
   },
   "outputs": [],
   "source": [
    "import numpy as np\n",
    "import pandas as pd\n",
    "import sys\n",
    "import argparse\n",
    "import seaborn as sns\n",
    "import matplotlib.pyplot as plt \n",
    "%matplotlib inline\n",
    "plt.style.use(\"ggplot\")\n",
    "import math\n",
    "import scipy\n",
    "import scipy.io as sio\n",
    "from collections import defaultdict\n",
    "import matplotlib as mpl\n",
    "import networkx as nx\n",
    "import visJS2jupyter.visJS_module\n",
    "import copy"
   ]
  },
  {
   "cell_type": "markdown",
   "metadata": {},
   "source": [
    "Argument and data parsing (processing mat files in python proved to be more difficult than originally expected)\n",
    "\n",
    "I subsetted the original dataframe with the genes found using the feature selection from the original source (I worked backwards--first I tried to reconstruct the progression using the subsetting genes, then I tried to implement the gene subsetting)"
   ]
  },
  {
   "cell_type": "code",
   "execution_count": 494,
   "metadata": {
    "collapsed": false
   },
   "outputs": [],
   "source": [
    "parser = argparse.ArgumentParser(description='Process display arguments')\n",
    "parser.add_argument(\"-f\", \"--jupyter-json\")\n",
    "parser.add_argument(\"-mat-file\", \"--mat-file\", default=\"../data/full_data.mat\")\n",
    "parser.add_argument(\"-gene-subset-file\", \"--gene-subset-file\", default=\"../data/gene_names.txt\")\n",
    "args = parser.parse_args()\n",
    "\n",
    "gene_subset = pd.read_csv(args.gene_subset_file, header=None, squeeze=True)\n",
    "mat = sio.loadmat(args.mat_file)\n",
    "\n",
    "all_genes = []\n",
    "for x in mat[\"probe_names\"]:\n",
    "    if not isinstance(x[0][0], np.unicode_):\n",
    "         all_genes.append(str(x[0][0][0]))\n",
    "    else:\n",
    "        all_genes.append(str(x[0][0]))\n",
    "\n",
    "full_df = pd.DataFrame(mat[\"data\"], index=all_genes, columns=[x[0] for x in mat[\"exp_names\"][0]])\n",
    "df = full_df.loc[gene_subset]"
   ]
  },
  {
   "cell_type": "markdown",
   "metadata": {},
   "source": [
    "Given the full data frame (genes x time_steps), construct an adjacency matrix where edges are the euclidean distance of one time step with another"
   ]
  },
  {
   "cell_type": "code",
   "execution_count": 495,
   "metadata": {
    "collapsed": false
   },
   "outputs": [],
   "source": [
    "def get_adj_mat_from_df(df):\n",
    "    adj_mat = pd.DataFrame([], index=df.columns, columns=df.columns)\n",
    "    for i in df:\n",
    "        for j in df:\n",
    "            adj_mat.loc[i, j] = float(scipy.spatial.distance.euclidean(df[i], df[j]))\n",
    "    return adj_mat\n",
    "\n",
    "adj_mat = get_adj_mat_from_df(df)"
   ]
  },
  {
   "cell_type": "markdown",
   "metadata": {},
   "source": [
    "Boruvka's algorithm from the paper to find Minimum Spanning- Tree of a given connected, undirected and weighted graph\n",
    "\n",
    "Taken from GeeksforGeeks (http://www.geeksforgeeks.org/greedy-algorithms-set-9-boruvkas-algorithm/) w/ minor modifications "
   ]
  },
  {
   "cell_type": "code",
   "execution_count": 501,
   "metadata": {
    "collapsed": true
   },
   "outputs": [],
   "source": [
    " class Graph:\n",
    " \n",
    "    def __init__(self,vertices):\n",
    "        self.V= vertices #No. of vertices\n",
    "        self.graph = [] # default dictionary to store graph\n",
    "        self.output_edges = [] #hold the outputs\n",
    "         \n",
    "    # function to add an edge to graph\n",
    "    def addEdge(self,u,v,w):\n",
    "        self.graph.append([u,v,w])\n",
    " \n",
    "    # A utility function to find set of an element i\n",
    "    # (uses path compression technique)\n",
    "    def find(self, parent, i):\n",
    "        if parent[i] == i:\n",
    "            return i\n",
    "        return self.find(parent, parent[i])\n",
    " \n",
    "    # A function that does union of two sets of x and y\n",
    "    # (uses union by rank)\n",
    "    def union(self, parent, rank, x, y):\n",
    "        xroot = self.find(parent, x)\n",
    "        yroot = self.find(parent, y)\n",
    " \n",
    "        # Attach smaller rank tree under root of high rank tree\n",
    "        # (Union by Rank)\n",
    "        if rank[xroot] < rank[yroot]:\n",
    "            parent[xroot] = yroot\n",
    "        elif rank[xroot] > rank[yroot]:\n",
    "            parent[yroot] = xroot\n",
    "        #If ranks are same, then make one as root and increment\n",
    "        # its rank by one\n",
    "        else :\n",
    "            parent[yroot] = xroot\n",
    "            rank[xroot] += 1\n",
    " \n",
    "    # The main function to construct MST using Kruskal's algorithm\n",
    "    def boruvkaMST(self):\n",
    "        parent = []; rank = []; \n",
    " \n",
    "        # An array to store index of the cheapest edge of\n",
    "        # subset. It store [u,v,w] for each component\n",
    "        cheapest =[]\n",
    " \n",
    "        # Initially there are V different trees.\n",
    "        # Finally there will be one tree that will be MST\n",
    "        numTrees = self.V\n",
    "        MSTweight = 0\n",
    " \n",
    "        # Create V subsets with single elements\n",
    "        for node in range(self.V):\n",
    "            parent.append(node)\n",
    "            rank.append(0)\n",
    "            cheapest =[-1] * self.V\n",
    "     \n",
    "        # Keep combining components (or sets) until all\n",
    "        # compnentes are not combined into single MST\n",
    " \n",
    "        while numTrees > 1:\n",
    " \n",
    "            # Traverse through all edges and update\n",
    "            # cheapest of every component\n",
    "            for i in range(len(self.graph)):\n",
    " \n",
    "                # Find components (or sets) of two corners\n",
    "                # of current edge\n",
    "                u,v,w =  self.graph[i]\n",
    "                set1 = self.find(parent, u)\n",
    "                set2 = self.find(parent ,v)\n",
    " \n",
    "                # If two corners of current edge belong to\n",
    "                # same set, ignore current edge. Else check if \n",
    "                # current edge is closer to previous\n",
    "                # cheapest edges of set1 and set2\n",
    "                if set1 != set2:    \n",
    "                     \n",
    "                    if cheapest[set1] == -1 or cheapest[set1][2] > w :\n",
    "                        cheapest[set1] = [u,v,w] \n",
    " \n",
    "                    if cheapest[set2] == -1 or cheapest[set2][2] > w :\n",
    "                        cheapest[set2] = [u,v,w]\n",
    " \n",
    "            # Consider the above picked cheapest edges and add them\n",
    "            # to MST\n",
    "            for node in range(self.V):\n",
    " \n",
    "                #Check if cheapest for current set exists\n",
    "                if cheapest[node] != -1:\n",
    "                    u,v,w = cheapest[node]\n",
    "                    set1 = self.find(parent, u)\n",
    "                    set2 = self.find(parent ,v)\n",
    " \n",
    "                    if set1 != set2 :\n",
    "                        MSTweight += w\n",
    "                        self.union(parent, rank, set1, set2)\n",
    "                        self.output_edges.append((u, v))\n",
    "                        numTrees = numTrees - 1\n",
    "             \n",
    "            cheapest =[-1] * self.V\n",
    " \n",
    "\n",
    "g = Graph(adj_mat.shape[0])\n",
    "for i in range(adj_mat.shape[0]):\n",
    "    for j in range(adj_mat.shape[1]):\n",
    "        if j > i:\n",
    "            g.addEdge(i, j, adj_mat.iloc[i, j])\n",
    "\n",
    "g.boruvkaMST()"
   ]
  },
  {
   "cell_type": "code",
   "execution_count": 744,
   "metadata": {
    "collapsed": false
   },
   "outputs": [
    {
     "data": {
      "text/html": [
       "<!doctype html><html><head>  <title>Network | Basic usage</title></head><body><script type=\"text/javascript\">function setUpFrame() {     var frame = window.frames[\"style_file0\"];    frame.runVis([{\"node_shape\": \"dot\", \"degree\": 3.0, \"title\": 0, \"color\": \"#8BA8D3\", \"y\": 0.0, \"x\": 200.0, \"border_width\": 0, \"id\": 0}, {\"node_shape\": \"dot\", \"degree\": 3.0, \"title\": 1, \"color\": \"#8BA8D3\", \"y\": 72.248333237430586, \"x\": 186.49444588087115, \"border_width\": 0, \"id\": 1}, {\"node_shape\": \"dot\", \"degree\": 3.0, \"title\": 2, \"color\": \"#8BA8D3\", \"y\": 134.73912872931143, \"x\": 147.80178344413181, \"border_width\": 0, \"id\": 2}, {\"node_shape\": \"dot\", \"degree\": 3.0, \"title\": 3, \"color\": \"#8BA8D3\", \"y\": 179.03265827101248, \"x\": 89.147671155307663, \"border_width\": 0, \"id\": 3}, {\"node_shape\": \"dot\", \"degree\": 3.0, \"title\": 4, \"color\": \"#8BA8D3\", \"y\": 199.14683525900691, \"x\": 18.453671892660399, \"border_width\": 0, \"id\": 4}, {\"node_shape\": \"dot\", \"degree\": 3.0, \"title\": 5, \"color\": \"#8BA8D3\", \"y\": 192.3651286345638, \"x\": -54.732598014416581, \"border_width\": 0, \"id\": 5}, {\"node_shape\": \"dot\", \"degree\": 3.0, \"title\": 6, \"color\": \"#8BA8D3\", \"y\": 159.60344545604792, \"x\": -120.52692727585126, \"border_width\": 0, \"id\": 6}, {\"node_shape\": \"dot\", \"degree\": 3.0, \"title\": 7, \"color\": \"#8BA8D3\", \"y\": 105.28643257547114, \"x\": -170.04342714592283, \"border_width\": 0, \"id\": 7}, {\"node_shape\": \"dot\", \"degree\": 3.0, \"title\": 8, \"color\": \"#8BA8D3\", \"y\": 36.749903563314071, \"x\": -196.59461993678036, \"border_width\": 0, \"id\": 8}, {\"node_shape\": \"dot\", \"degree\": 3.0, \"title\": 9, \"color\": \"#8BA8D3\", \"y\": -36.749903563314028, \"x\": -196.59461993678036, \"border_width\": 0, \"id\": 9}, {\"node_shape\": \"dot\", \"degree\": 3.0, \"title\": 10, \"color\": \"#8BA8D3\", \"y\": -105.28643257547117, \"x\": -170.04342714592283, \"border_width\": 0, \"id\": 10}, {\"node_shape\": \"dot\", \"degree\": 3.0, \"title\": 11, \"color\": \"#8BA8D3\", \"y\": -159.60344545604787, \"x\": -120.52692727585131, \"border_width\": 0, \"id\": 11}, {\"node_shape\": \"dot\", \"degree\": 3.0, \"title\": 12, \"color\": \"#8BA8D3\", \"y\": -192.3651286345638, \"x\": -54.732598014416624, \"border_width\": 0, \"id\": 12}, {\"node_shape\": \"dot\", \"degree\": 3.0, \"title\": 13, \"color\": \"#8BA8D3\", \"y\": -199.14683525900691, \"x\": 18.45367189266031, \"border_width\": 0, \"id\": 13}, {\"node_shape\": \"dot\", \"degree\": 3.0, \"title\": 14, \"color\": \"#8BA8D3\", \"y\": -179.03265827101245, \"x\": 89.147671155307705, \"border_width\": 0, \"id\": 14}, {\"node_shape\": \"dot\", \"degree\": 3.0, \"title\": 15, \"color\": \"#8BA8D3\", \"y\": -134.73912872931143, \"x\": 147.80178344413181, \"border_width\": 0, \"id\": 15}, {\"node_shape\": \"dot\", \"degree\": 3.0, \"title\": 16, \"color\": \"#8BA8D3\", \"y\": -72.2483332374306, \"x\": 186.49444588087115, \"border_width\": 0, \"id\": 16}], [{\"source\": 0, \"target\": 1, \"title\": \"test\"}, {\"source\": 1, \"target\": 2, \"title\": \"test\"}, {\"source\": 1, \"target\": 3, \"title\": \"test\"}, {\"source\": 3, \"target\": 4, \"title\": \"test\"}, {\"source\": 4, \"target\": 5, \"title\": \"test\"}, {\"source\": 5, \"target\": 6, \"title\": \"test\"}, {\"source\": 6, \"target\": 7, \"title\": \"test\"}, {\"source\": 7, \"target\": 8, \"title\": \"test\"}, {\"source\": 8, \"target\": 9, \"title\": \"test\"}, {\"source\": 9, \"target\": 10, \"title\": \"test\"}, {\"source\": 10, \"target\": 11, \"title\": \"test\"}, {\"source\": 11, \"target\": 12, \"title\": \"test\"}, {\"source\": 12, \"target\": 13, \"title\": \"test\"}, {\"source\": 13, \"target\": 14, \"title\": \"test\"}, {\"source\": 14, \"target\": 16, \"title\": \"test\"}, {\"source\": 16, \"target\": 15, \"title\": \"test\"}]);}</script><iframe name=\"style_file0\" src=\"style_file0.html\" height=\"1200px\" width=\"100%;\"></iframe></body></html>"
      ],
      "text/plain": [
       "<IPython.core.display.HTML object>"
      ]
     },
     "execution_count": 744,
     "metadata": {},
     "output_type": "execute_result"
    }
   ],
   "source": [
    "G = nx.complete_graph(17)\n",
    "nodes = G.nodes()\n",
    "edges = [(0, 1),\n",
    "         (1, 2),\n",
    "         (1, 3),\n",
    "         (3, 4),\n",
    "         (4, 5),\n",
    "         (5, 6),\n",
    "         (6, 7),\n",
    "         (7, 8),\n",
    "         (8, 9),\n",
    "         (9, 10),\n",
    "         (10, 11),\n",
    "         (11, 12),\n",
    "         (12, 13),\n",
    "         (13, 14),\n",
    "         (14, 16),\n",
    "         (16, 15)\n",
    "        ]\n",
    "\n",
    "pos = nx.circular_layout(G)\n",
    "nodes_dict = [{\"id\":n, \"x\":pos[n][0]*200, \"y\":pos[n][1]*200} for n in nodes]\n",
    "\n",
    "node_map = dict(zip(nodes,range(len(nodes))))  \n",
    "edges_dict = [{\"source\":node_map[edges[i][0]], \"target\":node_map[edges[i][1]], \n",
    "              \"title\":'test'} for i in range(len(edges))]\n",
    "\n",
    "visJS2jupyter.visJS_module.visjs_network(nodes_dict, edges_dict, graph_title=\"Paper Results\", graph_id=0)"
   ]
  },
  {
   "cell_type": "code",
   "execution_count": 745,
   "metadata": {
    "collapsed": false
   },
   "outputs": [
    {
     "data": {
      "text/html": [
       "<!doctype html><html><head>  <title>Network | Basic usage</title></head><body><script type=\"text/javascript\">function setUpFrame() {     var frame = window.frames[\"style_file1\"];    frame.runVis([{\"node_shape\": \"dot\", \"degree\": 3.0, \"title\": 0, \"color\": \"#8BA8D3\", \"y\": 0.0, \"x\": 200.0, \"border_width\": 0, \"id\": 0}, {\"node_shape\": \"dot\", \"degree\": 3.0, \"title\": 1, \"color\": \"#8BA8D3\", \"y\": 72.248333237430586, \"x\": 186.49444588087115, \"border_width\": 0, \"id\": 1}, {\"node_shape\": \"dot\", \"degree\": 3.0, \"title\": 2, \"color\": \"#8BA8D3\", \"y\": 134.73912872931143, \"x\": 147.80178344413181, \"border_width\": 0, \"id\": 2}, {\"node_shape\": \"dot\", \"degree\": 3.0, \"title\": 3, \"color\": \"#8BA8D3\", \"y\": 179.03265827101248, \"x\": 89.147671155307663, \"border_width\": 0, \"id\": 3}, {\"node_shape\": \"dot\", \"degree\": 3.0, \"title\": 4, \"color\": \"#8BA8D3\", \"y\": 199.14683525900691, \"x\": 18.453671892660399, \"border_width\": 0, \"id\": 4}, {\"node_shape\": \"dot\", \"degree\": 3.0, \"title\": 5, \"color\": \"#8BA8D3\", \"y\": 192.3651286345638, \"x\": -54.732598014416581, \"border_width\": 0, \"id\": 5}, {\"node_shape\": \"dot\", \"degree\": 3.0, \"title\": 6, \"color\": \"#8BA8D3\", \"y\": 159.60344545604792, \"x\": -120.52692727585126, \"border_width\": 0, \"id\": 6}, {\"node_shape\": \"dot\", \"degree\": 3.0, \"title\": 7, \"color\": \"#8BA8D3\", \"y\": 105.28643257547114, \"x\": -170.04342714592283, \"border_width\": 0, \"id\": 7}, {\"node_shape\": \"dot\", \"degree\": 3.0, \"title\": 8, \"color\": \"#8BA8D3\", \"y\": 36.749903563314071, \"x\": -196.59461993678036, \"border_width\": 0, \"id\": 8}, {\"node_shape\": \"dot\", \"degree\": 3.0, \"title\": 9, \"color\": \"#8BA8D3\", \"y\": -36.749903563314028, \"x\": -196.59461993678036, \"border_width\": 0, \"id\": 9}, {\"node_shape\": \"dot\", \"degree\": 3.0, \"title\": 10, \"color\": \"#8BA8D3\", \"y\": -105.28643257547117, \"x\": -170.04342714592283, \"border_width\": 0, \"id\": 10}, {\"node_shape\": \"dot\", \"degree\": 3.0, \"title\": 11, \"color\": \"#8BA8D3\", \"y\": -159.60344545604787, \"x\": -120.52692727585131, \"border_width\": 0, \"id\": 11}, {\"node_shape\": \"dot\", \"degree\": 3.0, \"title\": 12, \"color\": \"#8BA8D3\", \"y\": -192.3651286345638, \"x\": -54.732598014416624, \"border_width\": 0, \"id\": 12}, {\"node_shape\": \"dot\", \"degree\": 3.0, \"title\": 13, \"color\": \"#8BA8D3\", \"y\": -199.14683525900691, \"x\": 18.45367189266031, \"border_width\": 0, \"id\": 13}, {\"node_shape\": \"dot\", \"degree\": 3.0, \"title\": 14, \"color\": \"#8BA8D3\", \"y\": -179.03265827101245, \"x\": 89.147671155307705, \"border_width\": 0, \"id\": 14}, {\"node_shape\": \"dot\", \"degree\": 3.0, \"title\": 15, \"color\": \"#8BA8D3\", \"y\": -134.73912872931143, \"x\": 147.80178344413181, \"border_width\": 0, \"id\": 15}, {\"node_shape\": \"dot\", \"degree\": 3.0, \"title\": 16, \"color\": \"#8BA8D3\", \"y\": -72.2483332374306, \"x\": 186.49444588087115, \"border_width\": 0, \"id\": 16}], [{\"source\": 0, \"target\": 1, \"title\": \"test\"}, {\"source\": 1, \"target\": 2, \"title\": \"test\"}, {\"source\": 3, \"target\": 4, \"title\": \"test\"}, {\"source\": 4, \"target\": 5, \"title\": \"test\"}, {\"source\": 5, \"target\": 6, \"title\": \"test\"}, {\"source\": 6, \"target\": 7, \"title\": \"test\"}, {\"source\": 7, \"target\": 8, \"title\": \"test\"}, {\"source\": 9, \"target\": 10, \"title\": \"test\"}, {\"source\": 10, \"target\": 11, \"title\": \"test\"}, {\"source\": 11, \"target\": 12, \"title\": \"test\"}, {\"source\": 12, \"target\": 13, \"title\": \"test\"}, {\"source\": 13, \"target\": 14, \"title\": \"test\"}, {\"source\": 15, \"target\": 16, \"title\": \"test\"}, {\"source\": 2, \"target\": 3, \"title\": \"test\"}, {\"source\": 8, \"target\": 9, \"title\": \"test\"}, {\"source\": 14, \"target\": 16, \"title\": \"test\"}]);}</script><iframe name=\"style_file1\" src=\"style_file1.html\" height=\"1200px\" width=\"100%;\"></iframe></body></html>"
      ],
      "text/plain": [
       "<IPython.core.display.HTML object>"
      ]
     },
     "execution_count": 745,
     "metadata": {},
     "output_type": "execute_result"
    }
   ],
   "source": [
    "G = nx.complete_graph(17)\n",
    "nodes = G.nodes()\n",
    "edges = G.edges()\n",
    "edges = g.output_edges\n",
    "\n",
    "pos = nx.circular_layout(G)\n",
    "nodes_dict = [{\"id\":n, \"x\":pos[n][0]*200, \"y\":pos[n][1]*200} for n in nodes]\n",
    "\n",
    "node_map = dict(zip(nodes,range(len(nodes))))  \n",
    "edges_dict = [{\"source\":node_map[edges[i][0]], \"target\":node_map[edges[i][1]], \n",
    "              \"title\":'test'} for i in range(len(edges))]\n",
    "\n",
    "visJS2jupyter.visJS_module.visjs_network(nodes_dict,edges_dict, graph_title=\"My Results\", graph_id=1)"
   ]
  },
  {
   "cell_type": "markdown",
   "metadata": {
    "collapsed": false
   },
   "source": [
    "My results replicate the celluar progression process well--there is full continuity from time step 0 to 14 with a jump to 16 after 14 and then a reversion to 15. This is nearly identical to the results in the provided code--this is a slight disparity in which the provided code generates edges from 1 to 2 and then from 1 to 3 instead of directly from 1 to 2 and then from 2 to 3. \n",
    "\n",
    "I tried to understand why the MSTs generated were different, but couldn't seem to identify the difference between the two methods--both my code and the provided source code use Boruvska's algorithm using the selected genes with Euclidean distance as the edge weight to generate the MST. "
   ]
  },
  {
   "cell_type": "markdown",
   "metadata": {},
   "source": [
    "Now I try to recreate the feature selection--there were 54 gene modules created using the source code provided:"
   ]
  },
  {
   "cell_type": "code",
   "execution_count": 626,
   "metadata": {
    "collapsed": false
   },
   "outputs": [],
   "source": [
    "import sklearn.cluster\n",
    "L = 10\n",
    "c1 = 0.7\n",
    "c2 = 0.9"
   ]
  },
  {
   "cell_type": "code",
   "execution_count": 743,
   "metadata": {
    "collapsed": false
   },
   "outputs": [],
   "source": [
    "def is_coherent(df):\n",
    "    if df.shape[0] != 17:\n",
    "        raise TypeError(\"Invalid Shape!\")\n",
    "    c = df.corr(method=\"pearson\").mean().mean()\n",
    "    return c > c1\n",
    "\n",
    "def split_module(module):\n",
    "    init_clustering_df = pd.DataFrame([], index=module.index, columns=range(L))\n",
    "    for i in range(L):\n",
    "        kmeans = sklearn.cluster.KMeans(n_clusters=2).fit(module)\n",
    "        init_clustering_df[i] = kmeans.labels_\n",
    "    \n",
    "    kmeans = sklearn.cluster.KMeans(n_clusters=2).fit(init_clustering_df)\n",
    "    mask = (kmeans.labels_ == 1)\n",
    "    return (module[mask], module[~mask])\n",
    "\n",
    "module_list = []\n",
    "init_modules = split_module(full_df)\n",
    "module_list.append(init_modules[0])\n",
    "module_list.append(init_modules[1])\n",
    "\n",
    "stop_condition = False\n",
    "while not stop_condition:\n",
    "    new_module_list = []\n",
    "    stop_condition = True\n",
    "    for module in module_list:\n",
    "        if is_coherent(module.transpose()):\n",
    "            new_module_list.append(module)\n",
    "        else:\n",
    "            stop_condition = False\n",
    "            splits = split_module(module)\n",
    "            new_module_list.append(splits[0])\n",
    "            new_module_list.append(splits[1])\n",
    "    if not stop_condition:\n",
    "        module_list = new_module_list"
   ]
  },
  {
   "cell_type": "code",
   "execution_count": 741,
   "metadata": {
    "collapsed": false,
    "scrolled": true
   },
   "outputs": [],
   "source": [
    "def find_first_match(module_list):\n",
    "    for i in range(len(module_list)):\n",
    "        for j in range(i+1, len(module_list)):\n",
    "            c = pd.DataFrame([module_list[i].mean(), module_list[j].mean()]).transpose().corr().loc[0, 1]\n",
    "            if c > c2:\n",
    "                return (i, j)\n",
    "    return (-1, -1)\n",
    "\n",
    "def find_first_match_revised(module_list):\n",
    "    df = pd.DataFrame([], columns=range(len(module_list)), index=module_list[0].columns)\n",
    "    for i in range(len(module_list)):\n",
    "        df[i] = module_list[i].mean()\n",
    "    corr_gram = df.corr()\n",
    "    for i in range(len(module_list)):\n",
    "        for j in range(i+1, len(module_list)):\n",
    "            if corr_gram.iloc[i, j] > c2:\n",
    "                return (i, j)\n",
    "    return (-1, -1)\n",
    "\n",
    "comb_module_list = copy.deepcopy(module_list)\n",
    "stop_condition = False\n",
    "while not stop_condition:\n",
    "    stop_condition = True\n",
    "    match = find_first_match_revised(comb_module_list)\n",
    "    if match[0] != -1:\n",
    "        stop_condition = False\n",
    "        new_comb_module_list = []\n",
    "        for i in range(len(comb_module_list)):\n",
    "            if i != match[0] and i != match[1]:\n",
    "                new_comb_module_list.append(comb_module_list[i])\n",
    "        concat = pd.concat([module_list[match[0]], module_list[match[1]]])\n",
    "        new_comb_module_list.append(concat)\n",
    "        comb_module_list = new_comb_module_list"
   ]
  },
  {
   "cell_type": "code",
   "execution_count": 742,
   "metadata": {
    "collapsed": false
   },
   "outputs": [
    {
     "name": "stdout",
     "output_type": "stream",
     "text": [
      "627\n"
     ]
    }
   ],
   "source": [
    "print(len(comb_module_list))"
   ]
  },
  {
   "cell_type": "markdown",
   "metadata": {},
   "source": [
    "Using my code, there are 627 \"coherent\" modules generated from the data. This is extremely different from the 54 gene modules created using the provided source code, so there must be a bug in my code when I try to recombine the modules. I think this may be due to the ambiguity with how the paper worded the recombination process of modules: \"If the Pearson correlation of two modules’ centers is higher than a pre-specified threshold c2, these two modules are merged.\" I assumed this meant to take the means of modules at each time step and then find the correlation among the means of two modules, but this is slightly ambiguous. It is also possible I have a bug in my code in this step; however, my four hours were up after spending 20 minutes attempting to debug this."
   ]
  }
 ],
 "metadata": {
  "kernelspec": {
   "display_name": "Python 2",
   "language": "python",
   "name": "python2"
  },
  "language_info": {
   "codemirror_mode": {
    "name": "ipython",
    "version": 2
   },
   "file_extension": ".py",
   "mimetype": "text/x-python",
   "name": "python",
   "nbconvert_exporter": "python",
   "pygments_lexer": "ipython2",
   "version": "2.7.10"
  }
 },
 "nbformat": 4,
 "nbformat_minor": 2
}
